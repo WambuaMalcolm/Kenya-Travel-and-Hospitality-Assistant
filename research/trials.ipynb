{
 "cells": [
  {
   "cell_type": "markdown",
   "id": "f3463f1f",
   "metadata": {},
   "source": [
    "# Kenya Travel chatbbot\n"
   ]
  },
  {
   "cell_type": "markdown",
   "id": "b03f74c7",
   "metadata": {},
   "source": [
    "## Import all packages\n"
   ]
  },
  {
   "cell_type": "code",
   "execution_count": null,
   "id": "8c3d90da",
   "metadata": {},
   "outputs": [
    {
     "ename": "ModuleNotFoundError",
     "evalue": "No module named 'langchain_huggingface'",
     "output_type": "error",
     "traceback": [
      "\u001b[1;31m---------------------------------------------------------------------------\u001b[0m",
      "\u001b[1;31mModuleNotFoundError\u001b[0m                       Traceback (most recent call last)",
      "Cell \u001b[1;32mIn[27], line 4\u001b[0m\n\u001b[0;32m      2\u001b[0m \u001b[38;5;28;01mfrom\u001b[39;00m\u001b[38;5;250m \u001b[39m\u001b[38;5;21;01mlangchain_community\u001b[39;00m\u001b[38;5;21;01m.\u001b[39;00m\u001b[38;5;21;01mdocument_loaders\u001b[39;00m\u001b[38;5;250m \u001b[39m\u001b[38;5;28;01mimport\u001b[39;00m PyPDFLoader, DirectoryLoader\n\u001b[0;32m      3\u001b[0m \u001b[38;5;28;01mfrom\u001b[39;00m\u001b[38;5;250m \u001b[39m\u001b[38;5;21;01mlangchain\u001b[39;00m\u001b[38;5;21;01m.\u001b[39;00m\u001b[38;5;21;01mtext_splitter\u001b[39;00m\u001b[38;5;250m \u001b[39m\u001b[38;5;28;01mimport\u001b[39;00m RecursiveCharacterTextSplitter\n\u001b[1;32m----> 4\u001b[0m \u001b[38;5;28;01mfrom\u001b[39;00m\u001b[38;5;250m \u001b[39m\u001b[38;5;21;01mlangchain_huggingface\u001b[39;00m\u001b[38;5;250m \u001b[39m\u001b[38;5;28;01mimport\u001b[39;00m HuggingFaceEmbeddings\n\u001b[0;32m      5\u001b[0m \u001b[38;5;28;01mfrom\u001b[39;00m\u001b[38;5;250m \u001b[39m\u001b[38;5;21;01mlangchain\u001b[39;00m\u001b[38;5;21;01m.\u001b[39;00m\u001b[38;5;21;01membeddings\u001b[39;00m\u001b[38;5;250m \u001b[39m\u001b[38;5;28;01mimport\u001b[39;00m HuggingFaceEmbeddings\n\u001b[0;32m      6\u001b[0m \u001b[38;5;28;01mfrom\u001b[39;00m\u001b[38;5;250m \u001b[39m\u001b[38;5;21;01mlangchain\u001b[39;00m\u001b[38;5;21;01m.\u001b[39;00m\u001b[38;5;21;01mvectorstores\u001b[39;00m\u001b[38;5;250m \u001b[39m\u001b[38;5;28;01mimport\u001b[39;00m FAISS\n",
      "\u001b[1;31mModuleNotFoundError\u001b[0m: No module named 'langchain_huggingface'"
     ]
    }
   ],
   "source": [
    "import os\n",
    "from langchain_community.document_loaders import PyPDFLoader, DirectoryLoader\n",
    "from langchain.text_splitter import RecursiveCharacterTextSplitter\n",
    "from langchain_huggingface import HuggingFaceEmbeddings\n",
    "from langchain.embeddings import HuggingFaceEmbeddings\n",
    "from langchain_community.vectorstores import FAISS\n",
    "from langchain.schema import Document\n",
    "from dotenv import load_dotenv\n",
    "from langchain_openai import ChatOpenAI\n"
   ]
  },
  {
   "cell_type": "code",
   "execution_count": 2,
   "id": "310f6e5f",
   "metadata": {},
   "outputs": [
    {
     "data": {
      "text/plain": [
       "'p:\\\\Generative AI projects\\\\Kenya-Travel-and-Hospitality-Assistant\\\\research'"
      ]
     },
     "execution_count": 2,
     "metadata": {},
     "output_type": "execute_result"
    }
   ],
   "source": [
    "%pwd"
   ]
  },
  {
   "cell_type": "code",
   "execution_count": 3,
   "id": "f189e925",
   "metadata": {},
   "outputs": [],
   "source": [
    "# Change directory to access data folder\n",
    "os.chdir(\"../\")"
   ]
  },
  {
   "cell_type": "code",
   "execution_count": 4,
   "id": "eaa3d136",
   "metadata": {},
   "outputs": [
    {
     "data": {
      "text/plain": [
       "'p:\\\\Generative AI projects\\\\Kenya-Travel-and-Hospitality-Assistant'"
      ]
     },
     "execution_count": 4,
     "metadata": {},
     "output_type": "execute_result"
    }
   ],
   "source": [
    "# Check current directory\n",
    "%pwd"
   ]
  },
  {
   "cell_type": "markdown",
   "id": "9a2b3f98",
   "metadata": {},
   "source": [
    "## Load data\n"
   ]
  },
  {
   "cell_type": "code",
   "execution_count": 5,
   "id": "33c79665",
   "metadata": {},
   "outputs": [],
   "source": [
    "# load documents\n",
    "loader = DirectoryLoader(\n",
    "    \"data/\", # Specifies directory\n",
    "    glob=\"*.pdf\", # load all pdf'd\n",
    "    loader_cls=PyPDFLoader #Specifies its pdf loaded\n",
    ")\n",
    "documents = loader.load()"
   ]
  },
  {
   "cell_type": "markdown",
   "id": "a3be94c3",
   "metadata": {},
   "source": [
    "# Split data into chunks\n"
   ]
  },
  {
   "cell_type": "code",
   "execution_count": 6,
   "id": "5ebe74dc",
   "metadata": {},
   "outputs": [],
   "source": [
    "splitter = RecursiveCharacterTextSplitter(\n",
    "    chunk_size=500,\n",
    "    chunk_overlap=20\n",
    ")\n",
    "text_chunks = splitter.split_documents(documents)"
   ]
  },
  {
   "cell_type": "code",
   "execution_count": 7,
   "id": "b6fecda2",
   "metadata": {},
   "outputs": [
    {
     "data": {
      "text/plain": [
       "833"
      ]
     },
     "execution_count": 7,
     "metadata": {},
     "output_type": "execute_result"
    }
   ],
   "source": [
    "len(text_chunks)"
   ]
  },
  {
   "cell_type": "code",
   "execution_count": 8,
   "id": "9d2ad3b2",
   "metadata": {},
   "outputs": [
    {
     "name": "stderr",
     "output_type": "stream",
     "text": [
      "C:\\Users\\HP\\AppData\\Local\\Temp\\ipykernel_18140\\2910641993.py:1: LangChainDeprecationWarning: The class `HuggingFaceEmbeddings` was deprecated in LangChain 0.2.2 and will be removed in 1.0. An updated version of the class exists in the :class:`~langchain-huggingface package and should be used instead. To use it run `pip install -U :class:`~langchain-huggingface` and import as `from :class:`~langchain_huggingface import HuggingFaceEmbeddings``.\n",
      "  embeddings = HuggingFaceEmbeddings(model_name = \"intfloat/multilingual-e5-base\")\n",
      "c:\\Users\\HP\\miniconda3\\envs\\travelbot\\lib\\site-packages\\tqdm\\auto.py:21: TqdmWarning: IProgress not found. Please update jupyter and ipywidgets. See https://ipywidgets.readthedocs.io/en/stable/user_install.html\n",
      "  from .autonotebook import tqdm as notebook_tqdm\n"
     ]
    },
    {
     "data": {
      "text/plain": [
       "HuggingFaceEmbeddings(client=SentenceTransformer(\n",
       "  (0): Transformer({'max_seq_length': 512, 'do_lower_case': False, 'architecture': 'XLMRobertaModel'})\n",
       "  (1): Pooling({'word_embedding_dimension': 768, 'pooling_mode_cls_token': False, 'pooling_mode_mean_tokens': True, 'pooling_mode_max_tokens': False, 'pooling_mode_mean_sqrt_len_tokens': False, 'pooling_mode_weightedmean_tokens': False, 'pooling_mode_lasttoken': False, 'include_prompt': True})\n",
       "  (2): Normalize()\n",
       "), model_name='intfloat/multilingual-e5-base', cache_folder=None, model_kwargs={}, encode_kwargs={}, multi_process=False, show_progress=False)"
      ]
     },
     "execution_count": 8,
     "metadata": {},
     "output_type": "execute_result"
    }
   ],
   "source": [
    "embeddings = HuggingFaceEmbeddings(model_name = \"intfloat/multilingual-e5-base\")\n",
    "embeddings\n"
   ]
  },
  {
   "cell_type": "code",
   "execution_count": 9,
   "id": "b1642a08",
   "metadata": {},
   "outputs": [
    {
     "data": {
      "text/plain": [
       "768"
      ]
     },
     "execution_count": 9,
     "metadata": {},
     "output_type": "execute_result"
    }
   ],
   "source": [
    "query_embeddings = embeddings.embed_query(\"query: HEllo world\")\n",
    "len(query_embeddings)"
   ]
  },
  {
   "cell_type": "code",
   "execution_count": 10,
   "id": "8edf333a",
   "metadata": {},
   "outputs": [
    {
     "name": "stdout",
     "output_type": "stream",
     "text": [
      "🔄 Loading existing FAISS index...\n"
     ]
    }
   ],
   "source": [
    "# 1. Path to save/load FAISS index\n",
    "faiss_path = \"faiss_index\"\n",
    "\n",
    "# 2. If index exists, load it\n",
    "if os.path.exists(faiss_path):\n",
    "    print(\"🔄 Loading existing FAISS index...\")\n",
    "    vectorstore = FAISS.load_local(faiss_path, embeddings, allow_dangerous_deserialization=True)\n",
    "\n",
    "else:\n",
    "    print(\"✨ Creating new FAISS index...\")\n",
    "    # Wrap chunks in Document objects\n",
    "    docs = [Document(page_content=f\"passage: {chunk}\") for chunk in text_chunks]\n",
    "\n",
    "    # Build FAISS index\n",
    "    vectorstore = FAISS.from_documents(docs, embeddings)\n",
    "\n",
    "    # Save index locally\n",
    "    vectorstore.save_local(faiss_path)\n",
    "    print(\"💾 Saved FAISS index locally!\")"
   ]
  },
  {
   "cell_type": "code",
   "execution_count": 11,
   "id": "02e8ee01",
   "metadata": {},
   "outputs": [
    {
     "data": {
      "text/plain": [
       "<langchain_community.vectorstores.faiss.FAISS at 0x1adf0769360>"
      ]
     },
     "execution_count": 11,
     "metadata": {},
     "output_type": "execute_result"
    }
   ],
   "source": [
    "vectorstore"
   ]
  },
  {
   "cell_type": "code",
   "execution_count": 23,
   "id": "7a41ccb6",
   "metadata": {},
   "outputs": [
    {
     "data": {
      "text/plain": [
       "ChatOpenAI(client=<openai.resources.chat.completions.completions.Completions object at 0x000001ADE9B91C30>, async_client=<openai.resources.chat.completions.completions.AsyncCompletions object at 0x000001ADE9B91330>, root_client=<openai.OpenAI object at 0x000001ADE9B91270>, root_async_client=<openai.AsyncOpenAI object at 0x000001ADE9B93460>, model_name='gpt-3.5-turbo-0125', temperature=0.3, model_kwargs={}, openai_api_key=SecretStr('**********'), max_tokens=200)"
      ]
     },
     "execution_count": 23,
     "metadata": {},
     "output_type": "execute_result"
    }
   ],
   "source": [
    "OPENAI_API_KEY = os.getenv(\"OPENAI_API_KEY\")\n",
    "\n",
    "\n",
    "model = \"gpt-3.5-turbo-0125\"\n",
    "OPENAI_API_KEY\n",
    "llm = ChatOpenAI(\n",
    "    model_name = model,\n",
    "    temperature=0.3,\n",
    "    max_tokens=200\n",
    ")\n",
    "llm"
   ]
  },
  {
   "cell_type": "code",
   "execution_count": 13,
   "id": "e453d15c",
   "metadata": {},
   "outputs": [
    {
     "data": {
      "text/plain": [
       "AIMessage(content='Kenya is a country located in East Africa, known for its diverse wildlife, stunning landscapes, and vibrant culture. Some key facts about Kenya include:\\n\\n1. Capital: Nairobi\\n2. Population: Approximately 53 million people\\n3. Official languages: Swahili and English\\n4. Currency: Kenyan Shilling\\n5. Government: Republic\\n6. Famous for its national parks and game reserves, including the Maasai Mara, Amboseli National Park, and Tsavo National Park.\\n7. Home to Mount Kenya, the second-highest mountain in Africa.\\n8. Known for its rich cultural heritage, including traditional music, dance, and art.\\n9. Major industries include agriculture, tourism, and manufacturing.\\n10. Kenya gained independence from British colonial rule in 1963.\\n11. The country has a diverse population with over 40 different ethnic groups, each with its own unique traditions and customs.\\n12. Kenya is a popular destination for safari tours, offering the chance', additional_kwargs={'refusal': None}, response_metadata={'token_usage': {'completion_tokens': 200, 'prompt_tokens': 14, 'total_tokens': 214, 'completion_tokens_details': {'accepted_prediction_tokens': 0, 'audio_tokens': 0, 'reasoning_tokens': 0, 'rejected_prediction_tokens': 0}, 'prompt_tokens_details': {'audio_tokens': 0, 'cached_tokens': 0}}, 'model_name': 'gpt-3.5-turbo-0125', 'system_fingerprint': None, 'id': 'chatcmpl-C7JD0SmSGExOGVksecYwSrunTgame', 'service_tier': 'default', 'finish_reason': 'length', 'logprobs': None}, id='run--660eceb7-5f64-4326-9550-322a1bf1b79f-0', usage_metadata={'input_tokens': 14, 'output_tokens': 200, 'total_tokens': 214, 'input_token_details': {'audio': 0, 'cache_read': 0}, 'output_token_details': {'audio': 0, 'reasoning': 0}})"
      ]
     },
     "execution_count": 13,
     "metadata": {},
     "output_type": "execute_result"
    }
   ],
   "source": [
    "llm.invoke(\"What is known about kenya?\")"
   ]
  },
  {
   "cell_type": "markdown",
   "id": "31154e76",
   "metadata": {},
   "source": [
    "## Set retriever object\n"
   ]
  },
  {
   "cell_type": "code",
   "execution_count": 14,
   "id": "7306fa1c",
   "metadata": {},
   "outputs": [],
   "source": [
    "retriever = vectorstore.as_retriever(search_kwargs={\"k\": 3})"
   ]
  },
  {
   "cell_type": "code",
   "execution_count": 15,
   "id": "f3687ab1",
   "metadata": {},
   "outputs": [
    {
     "name": "stdout",
     "output_type": "stream",
     "text": [
      "passage: page_content='of Kenya, this hidden gem - set away from the hassle and \n",
      "hustle of the city - is a gorgeous grotto of a place.\n",
      "1.Watamu Beach\n",
      "Perched on a small headland between the Blue Lagoon \n",
      "and Watamu Bay, it stocks pristine beaches, lush tropical \n",
      "rain forest and two protected areas: Watamu Marine \n",
      "National Park & Arabuko Sokoke National Park.' metadata={'producer': 'Adobe PDF Library 15.0', 'creator': 'Adobe InDesign 16.0 (Macintosh)', 'creationdate': '2022-05-12T14:41:42+05:30', 'moddate': '2022-05-12T14:42:36+05:30', 'trapped': '/False', 'source': 'data\\\\48-hours-in-Mombasa-brochure.pdf', 'total_pages': 62, 'page': 28, 'page_label': '29'}\n",
      "passage: page_content='“In Kenya, black and white rhinos have become \n",
      "emblematic of the struggle for African wildlife \n",
      "conservation. Although their populations face threats \n",
      "from poaching, measures such as secure sanctuaries \n",
      "and intensive patrols have significantly enhanced \n",
      "their protection,” explains Jonathan.\n",
      "Elsa the Lioness\n",
      "The park is also renowned for its connection with \n",
      "George and Joy Adamson—lion enthusiasts who \n",
      "released Elsa the lioness here, a story made famous' metadata={'producer': 'Adobe PDF Library 17.0', 'creator': 'Adobe InDesign 20.2 (Macintosh)', 'creationdate': '2025-05-23T13:30:12+03:00', 'moddate': '2025-05-23T13:31:47+03:00', 'trapped': '/False', 'source': 'data\\\\Magical-Kenya-Magazine_V10.pdf', 'total_pages': 60, 'page': 53, 'page_label': '54'}\n",
      "passage: page_content='Although Meru’s wildlife is abundant, encountering \n",
      "these animals is a privilege granted by nature without \n",
      "any guarantees. On our way to camp, we soon came \n",
      "Wild Escape\n",
      "in Meru\n",
      "Head to Meru National Park in Kenya—a hidden treasure off the beaten path, far from the \n",
      "crowds that flock to popular reserves such as the Masai Mara or Amboseli. Here, nature \n",
      "unfolds in all its splendor, offering a complete immersion.\n",
      "Writer’s first-hand experience\n",
      "52\n",
      "By Christine Nayagam' metadata={'producer': 'Adobe PDF Library 17.0', 'creator': 'Adobe InDesign 20.2 (Macintosh)', 'creationdate': '2025-05-23T13:30:12+03:00', 'moddate': '2025-05-23T13:31:47+03:00', 'trapped': '/False', 'source': 'data\\\\Magical-Kenya-Magazine_V10.pdf', 'total_pages': 60, 'page': 51, 'page_label': '52'}\n"
     ]
    }
   ],
   "source": [
    "# Test retriever\n",
    "query = \"Ni hifadhi maarufu gani nchini Kenya?\"\n",
    "results = retriever.invoke(f\"query: {query}\")\n",
    "for r in results:\n",
    "    print(r.page_content)"
   ]
  },
  {
   "cell_type": "markdown",
   "id": "a7bd240a",
   "metadata": {},
   "source": [
    "## Make Chain\n"
   ]
  },
  {
   "cell_type": "code",
   "execution_count": 16,
   "id": "e7e7ff22",
   "metadata": {},
   "outputs": [],
   "source": [
    "from langchain_core.prompts import ChatPromptTemplate\n",
    "\n",
    "system_prompt = \"\"\"\n",
    "You are SafariBot, a travel and hospitality assistant specialized in East Africa.\n",
    "Answer only questions related to travel, tourism, accommodations, transport, culture, and hospitality in Kenya.\n",
    "\n",
    "Use the retrieved context to answer; if the answer is not found, say you don’t know.\n",
    "Politely refuse unrelated questions and guide the user back to travel topics.\n",
    "Support both English and Kiswahili, replying in the user’s language.\n",
    "Be concise, clear, friendly, and include practical details when possible.\n",
    "\n",
    "Context:\n",
    "{context}\n",
    "\"\"\"\n",
    "\n",
    "qa_prompt = ChatPromptTemplate.from_messages(\n",
    "    [\n",
    "        (\"system\", system_prompt),\n",
    "        (\"human\", \"query: {input}\")\n",
    "    ]\n",
    ")\n"
   ]
  },
  {
   "cell_type": "code",
   "execution_count": 17,
   "id": "0340f9bc",
   "metadata": {},
   "outputs": [
    {
     "name": "stderr",
     "output_type": "stream",
     "text": [
      "C:\\Users\\HP\\AppData\\Local\\Temp\\ipykernel_18140\\2308514492.py:23: LangChainDeprecationWarning: Please see the migration guide at: https://python.langchain.com/docs/versions/migrating_memory/\n",
      "  memory = ConversationBufferMemory(\n"
     ]
    }
   ],
   "source": [
    "from langchain.chains import create_retrieval_chain\n",
    "from langchain.chains.history_aware_retriever import create_history_aware_retriever\n",
    "from langchain.chains.combine_documents import create_stuff_documents_chain\n",
    "from langchain.memory import ConversationBufferMemory\n",
    "\n",
    "history_aware_retriever = create_history_aware_retriever(\n",
    "    llm,\n",
    "    retriever,\n",
    "    prompt=ChatPromptTemplate.from_messages([\n",
    "        (\"system\", \"Reformulate the user’s question based on the chat history.\"),\n",
    "        (\"human\", \"{input}\")\n",
    "    ])\n",
    ")\n",
    "\n",
    "qa_chain = create_stuff_documents_chain(\n",
    "    llm, qa_prompt\n",
    ")\n",
    "\n",
    "rag_chain = create_retrieval_chain(\n",
    "    history_aware_retriever, qa_chain\n",
    ")\n",
    "\n",
    "memory = ConversationBufferMemory(\n",
    "    memory_key=\"chat_history\",\n",
    "    return_messages=True\n",
    ")"
   ]
  },
  {
   "cell_type": "code",
   "execution_count": 18,
   "id": "feb30d82",
   "metadata": {},
   "outputs": [],
   "source": [
    "def ask_bot(query: str):\n",
    "    response = rag_chain.invoke({\n",
    "        \"input\": query,\n",
    "        \"chat_history\": memory.load_memory_variables({})[\"chat_history\"]\n",
    "    })\n",
    "    memory.save_context({\"input\": query}, {\"output\": response[\"answer\"]})\n",
    "    return response[\"answer\"]"
   ]
  },
  {
   "cell_type": "code",
   "execution_count": 19,
   "id": "429f0723",
   "metadata": {},
   "outputs": [
    {
     "name": "stdout",
     "output_type": "stream",
     "text": [
      "The Maasai Mara is a renowned wildlife reserve in Kenya, known for its diverse ecosystem and abundant wildlife. It covers over 400,000 acres and is managed by 24 conservancies involving more than 14,500 Maasai landowners. The Maasai Mara Conservancies have become a crucial part of the Greater Mara Ecosystem, showcasing a successful model that benefits both wildlife conservation and the local Maasai community. It all began in 1991 with the establishment of the first conservancy, Ol Choro Oirouwa. Today, visitors can experience the magic of the Maasai Mara through safaris, witnessing wildlife thriving in their natural habitat alongside the Maasai people. Karibu Maasai Mara!\n"
     ]
    }
   ],
   "source": [
    "print(ask_bot(\"Tell me about Maasai Mara\"))"
   ]
  },
  {
   "cell_type": "code",
   "execution_count": 20,
   "id": "9994dca2",
   "metadata": {},
   "outputs": [
    {
     "name": "stdout",
     "output_type": "stream",
     "text": [
      "In Tanzania, tourism is a significant industry, offering diverse attractions like Mount Kilimanjaro, Serengeti National Park, and Zanzibar's beaches. The country is known for its wildlife safaris, cultural experiences, and beautiful landscapes. If you need specific information or travel tips about Tanzania, feel free to ask!\n"
     ]
    }
   ],
   "source": [
    "print(ask_bot(\"What about in Tanzania?\"))"
   ]
  },
  {
   "cell_type": "code",
   "execution_count": 21,
   "id": "4e058700",
   "metadata": {},
   "outputs": [
    {
     "name": "stdout",
     "output_type": "stream",
     "text": [
      "I focus on travel-related questions about Kenya. If you have any inquiries about travel, tourism, accommodations, transport, culture, or hospitality in Kenya, feel free to ask!\n"
     ]
    }
   ],
   "source": [
    "print(ask_bot(\"Who was the first president of the USA?\"))"
   ]
  },
  {
   "cell_type": "code",
   "execution_count": 24,
   "id": "8d22c5c7",
   "metadata": {},
   "outputs": [
    {
     "data": {
      "text/plain": [
       "'While in Kenya, you can explore various attractions beyond traditional safaris. Some recommended places to visit include:\\n\\n1. **Heritage Trail Expedition**: This expedition takes you through counties like Laikipia, Elgeyo Marakwet, Uasin Gishu, Baringo, and Nandi, showcasing hidden gems and unexplored landscapes.\\n\\n2. **Subukia Viewpoint**: Enjoy stunning views at the Subukia Viewpoint, a popular stop on the Heritage Trail Expedition.\\n\\n3. **Ol Pejeta Conservancy**: Engage in voluntourism projects like tree planting and wildlife monitoring in this sanctuary known for conservation efforts.\\n\\n4. **Karura Forest and Ngong Hills**: Explore these urban green spaces for serene escapes within city limits.\\n\\n5. **Koobi Fora Site**: Visit this site to see where the famous Turkana Boy was found, offering insight into human evolution.\\n\\n6. **Nairobi National Museum, Karen Blixen Museum, and Fort Jesus'"
      ]
     },
     "execution_count": 24,
     "metadata": {},
     "output_type": "execute_result"
    }
   ],
   "source": [
    "ask_bot(\"What are dome good places to visit while in Kenya?\")"
   ]
  },
  {
   "cell_type": "code",
   "execution_count": null,
   "id": "ec04954d",
   "metadata": {},
   "outputs": [],
   "source": [
    "from langchain.chains import create_retrieval_chain\n",
    "from langchain.chains.history_aware_retriever import create_history_aware_retriever\n",
    "from langchain.chains.combine_documents import create_stuff_documents_chain\n",
    "from langchain_core.prompts import ChatPromptTemplate\n",
    "from langchain.memory import ConversationBufferMemory\n",
    "\n",
    "# 1) History-aware reformulation prompt -> returns a *standalone* query\n",
    "#    IMPORTANT: Always begin with \"query: \" for E5 models.\n",
    "condense_prompt = ChatPromptTemplate.from_messages([\n",
    "    (\"system\",\n",
    "     \"You are a question rewriter for a travel RAG system. \"\n",
    "     \"Given the chat history and a follow-up, rewrite it as a standalone search query. \"\n",
    "     \"Preserve the user's language. \"\n",
    "     \"ALWAYS begin the result with exactly: 'query: '\"),\n",
    "    (\"human\", \"Chat history:\\n{chat_history}\\n\\nFollow-up question: {input}\\n\\nStandalone query:\")\n",
    "])\n",
    "\n",
    "# 2) Build history-aware retriever\n",
    "history_aware_retriever = create_history_aware_retriever(\n",
    "    llm,                      # your ChatOpenAI\n",
    "    retriever,                # vectorstore.as_retriever(...)\n",
    "    prompt=condense_prompt\n",
    ")\n",
    "\n",
    "# 3) QA prompt that actually uses retrieved context\n",
    "qa_system = \"\"\"\n",
    "You are SafariBot, a travel and hospitality assistant specialized in East Africa.\n",
    "Answer only questions related to travel, tourism, accommodations, transport, culture, and hospitality in Kenya, Tanzania, Uganda, Rwanda, and nearby regions.\n",
    "Use ONLY the retrieved context to answer. If the answer is not in the context, say you don’t know.\n",
    "Politely refuse unrelated questions and guide the user back to travel topics.\n",
    "Support both English and Kiswahili, replying in the user’s language.\n",
    "Be concise, clear, friendly, and include practical details when possible.\n",
    "\n",
    "<context>\n",
    "{context}\n",
    "</context>\n",
    "\"\"\"\n",
    "\n",
    "qa_prompt = ChatPromptTemplate.from_messages([\n",
    "    (\"system\", qa_system),\n",
    "    (\"human\", \"{input}\")   # user message (we don’t add 'query:' here; only the retriever needs it)\n",
    "])\n",
    "\n",
    "qa_chain = create_stuff_documents_chain(llm, qa_prompt)\n",
    "\n",
    "# 4) Final RAG chain\n",
    "rag_chain = create_retrieval_chain(history_aware_retriever, qa_chain)\n",
    "\n",
    "# 5) Conversation memory so you don't manually append history\n",
    "memory = ConversationBufferMemory(memory_key=\"chat_history\", return_messages=True)\n",
    "\n",
    "def ask_bot(q: str):\n",
    "    hist = memory.load_memory_variables({})[\"chat_history\"]\n",
    "    resp = rag_chain.invoke({\"input\": q, \"chat_history\": hist})\n",
    "    memory.save_context({\"input\": q}, {\"output\": resp[\"answer\"]})\n",
    "    return resp[\"answer\"], resp  # resp also contains 'context' (retrieved docs)\n"
   ]
  },
  {
   "cell_type": "code",
   "execution_count": 26,
   "id": "f8bc7efd",
   "metadata": {},
   "outputs": [
    {
     "name": "stdout",
     "output_type": "stream",
     "text": [
      "Maasai Mara is a renowned wildlife reserve in Kenya, known for its diverse ecosystem and abundant wildlife. The Maasai Mara Conservancies cover over 400,000 acres and are managed by 24 conservancies with more than 14,500 Maasai landowners. These conservancies have become a vital part of the Greater Mara Ecosystem, benefiting both wildlife and the local Maasai people through conservation and economic empowerment initiatives. It all began in 1991 with the first conservancy, Ol Choro Oirouwa, and has since evolved into a successful model where wildlife thrives alongside community development. Karibu Maasai Mara!\n",
      "I specialize in travel and hospitality information for Kenya, Tanzania, Uganda, Rwanda, and nearby regions. How can I assist you with your travel inquiries in Tanzania specifically?\n",
      "— {} \n",
      " passage: page_content='corridor connecting the Boni forest area and Galana-\n",
      "Tsavo ecosystems and is a maternity elephant \n",
      "ground.\n",
      "But your safari can not be complete without a visit of \n",
      "the neighborin \n",
      "\n",
      "— {} \n",
      " passage: page_content='terrestrial wildlife.\n",
      "The region boasts of a blend of many habitats, \n",
      "including riverine forest, grassland, woodland, \n",
      "bushland, lakes, mangroves, dunes, beaches and \n",
      "coastal wa \n",
      "\n"
     ]
    }
   ],
   "source": [
    "ans, resp = ask_bot(\"Tell me about Maasai Mara\")\n",
    "print(ans)\n",
    "\n",
    "ans, resp = ask_bot(\"What about in Tanzania?\")\n",
    "print(ans)\n",
    "\n",
    "# Inspect what was retrieved (to confirm it's using context)\n",
    "for d in resp[\"context\"][:2]:\n",
    "    print(\"—\", (d.metadata.get(\"source\") or d.metadata), \"\\n\", d.page_content[:200], \"\\n\")\n"
   ]
  },
  {
   "cell_type": "code",
   "execution_count": null,
   "id": "74fdbaa9",
   "metadata": {},
   "outputs": [],
   "source": []
  }
 ],
 "metadata": {
  "kernelspec": {
   "display_name": "travelbot",
   "language": "python",
   "name": "python3"
  },
  "language_info": {
   "codemirror_mode": {
    "name": "ipython",
    "version": 3
   },
   "file_extension": ".py",
   "mimetype": "text/x-python",
   "name": "python",
   "nbconvert_exporter": "python",
   "pygments_lexer": "ipython3",
   "version": "3.10.18"
  }
 },
 "nbformat": 4,
 "nbformat_minor": 5
}
